{
  "nbformat": 4,
  "nbformat_minor": 0,
  "metadata": {
    "colab": {
      "provenance": []
    },
    "kernelspec": {
      "name": "python3",
      "display_name": "Python 3"
    },
    "language_info": {
      "name": "python"
    }
  },
  "cells": [
    {
      "cell_type": "code",
      "execution_count": null,
      "metadata": {
        "id": "ymaryU6a7w2_"
      },
      "outputs": [],
      "source": []
    },
    {
      "cell_type": "markdown",
      "source": [
        "1. What is the difference between interpreted and compiled languages?\n",
        "- In compiled languages, the entire code is translated into machine code before execution (e.g., C, C++). This makes execution faster but compilation takes time.\n",
        "\n",
        "In interpreted languages, code is executed line by line by an interpreter (e.g., Python, JavaScript). It’s slower than compiled languages but easier to debug and test."
      ],
      "metadata": {
        "id": "W2R0ouc-8XeZ"
      }
    },
    {
      "cell_type": "markdown",
      "source": [
        "2. What is exception handling in Python?\n",
        "- Exception handling in Python is a way to manage runtime errors so the program doesn’t crash.\n",
        "It uses try, except, else, and finally blocks to handle errors gracefully."
      ],
      "metadata": {
        "id": "1f-u6BbA82nE"
      }
    },
    {
      "cell_type": "markdown",
      "source": [
        "3. What is the purpose of the finally block in exception handling?\n",
        "- The finally block is used to execute code no matter what happens — whether an exception occurs or not.\n",
        "It’s mainly used for cleanup actions like closing files or releasing resources."
      ],
      "metadata": {
        "id": "8k6n35Xx9IxR"
      }
    },
    {
      "cell_type": "markdown",
      "source": [
        "4. What is logging in Python?\n",
        "- Logging in Python is a way to record messages about a program’s execution — like errors, warnings, or general info — to help with debugging and monitoring."
      ],
      "metadata": {
        "id": "A8DtAUDF9k7t"
      }
    },
    {
      "cell_type": "markdown",
      "source": [
        "5. What is the significance of the __del__ method in Python?\n",
        "- The __del__ method in Python is a destructor — it’s called automatically when an object is about to be deleted (i.e., when it goes out of scope or its reference count becomes zero).\n",
        "\n",
        "It’s used to release resources like closing files or database connections."
      ],
      "metadata": {
        "id": "jtKWWpWu90Nj"
      }
    },
    {
      "cell_type": "markdown",
      "source": [
        "6. What is the difference between import and from ... import in Python?\n",
        "- imports the whole module. You must use the module name to access its functions.\n",
        "\n",
        "   from ... import imports specific functions or variables from a module, so you can use them directly."
      ],
      "metadata": {
        "id": "vPHmj4hI-D9R"
      }
    },
    {
      "cell_type": "markdown",
      "source": [
        "7. How can you handle multiple exceptions in Python?\n",
        "- You can handle multiple exceptions in Python using:\n",
        "\n",
        "1. Multiple except blocks:\n",
        "\n",
        "try:\n",
        "    x = int(\"abc\")\n",
        "\n",
        "except ValueError:\n",
        "    print(\"Value error!\")\n",
        "\n",
        "except TypeError:\n",
        "    print(\"Type error!\")\n",
        "\n",
        "2. Single except with tuple:\n",
        "\n",
        "try:\n",
        "    x = int(\"abc\")\n",
        "    \n",
        "except (ValueError, TypeError):\n",
        "    print(\"Handled multiple exceptions together\")"
      ],
      "metadata": {
        "id": "swLSSPFS-ut8"
      }
    },
    {
      "cell_type": "markdown",
      "source": [
        "8. What is the purpose of the with statement when handling files in Python?\n",
        "- The with statement in Python is used to manage file operations automatically. It ensures that the file is closed properly after the block of code is executed, even if an error occurs."
      ],
      "metadata": {
        "id": "FtDbEMJ__Ts9"
      }
    },
    {
      "cell_type": "markdown",
      "source": [
        "9. What is the difference between multithreading and multiprocessing?\n",
        "-\n",
        "**Multithreading** runs multiple threads within the **same process**, sharing the same memory space, and is useful for I/O-bound tasks.\n",
        "\n",
        "**Multiprocessing** runs multiple **independent processes**, each with its own memory space, and is better for CPU-bound tasks.\n"
      ],
      "metadata": {
        "id": "IlAsm-37_2Dp"
      }
    },
    {
      "cell_type": "markdown",
      "source": [
        "10. What are the advantages of using logging in a program?\n",
        "-\n",
        "Logging helps in **tracking program execution**, **debugging errors**, and **recording events**.\n",
        "It allows developers to monitor the program’s behavior, find issues easily, and keep a record without interrupting the program flow.\n"
      ],
      "metadata": {
        "id": "qqp4b-4_AEIC"
      }
    },
    {
      "cell_type": "markdown",
      "source": [
        "11. What is memory management in Python?\n",
        "-\n",
        "**Memory management** in Python refers to the process of **allocating and releasing memory automatically**.\n",
        "It is handled by Python’s **memory manager and garbage collector**, which free up unused memory to optimize performance.\n"
      ],
      "metadata": {
        "id": "AalK0x3IASV-"
      }
    },
    {
      "cell_type": "markdown",
      "source": [
        "12. What are the basic steps involved in exception handling in Python?\n",
        "-\n",
        "The basic steps in exception handling are:\n",
        "\n",
        "1. Place risky code inside a **`try`** block.\n",
        "2. Catch and handle errors using **`except`**.\n",
        "3. Optionally use **`else`** for code that runs if no error occurs.\n",
        "4. Use **`finally`** for cleanup actions that run in all cases.\n"
      ],
      "metadata": {
        "id": "854RKg4KAfQP"
      }
    },
    {
      "cell_type": "markdown",
      "source": [
        "13. Why is memory management important in Python?\n",
        "-\n",
        "Memory management is important in Python to **prevent memory leaks**, **improve performance**, and ensure **efficient use of system resources**.\n",
        "It helps the program run smoothly by freeing memory that is no longer needed.\n"
      ],
      "metadata": {
        "id": "Jp56J-hXAsvv"
      }
    },
    {
      "cell_type": "markdown",
      "source": [
        "14. What is the role of try and except in exception handling?\n",
        "-\n",
        "The **`try`** block is used to write code that might cause an error, and the **`except`** block handles that error when it occurs.\n",
        "This prevents the program from crashing and allows it to continue running smoothly.\n"
      ],
      "metadata": {
        "id": "GDUYPcl1A2d2"
      }
    },
    {
      "cell_type": "markdown",
      "source": [
        "15. How does Python's garbage collection system work?\n",
        "-\n",
        "Python’s **garbage collection system** automatically frees memory by **removing objects that are no longer in use**.\n",
        "It mainly uses **reference counting** to track objects and a **cyclic garbage collector** to clean up reference cycles.\n"
      ],
      "metadata": {
        "id": "oc--V5bBBDbd"
      }
    },
    {
      "cell_type": "markdown",
      "source": [
        "16. What is the purpose of the else block in exception handling?\n",
        "\n",
        "- The **`else`** block runs **only if no exception occurs** in the `try` block.\n",
        "It is used to place code that should execute when everything inside `try` works correctly.\n"
      ],
      "metadata": {
        "id": "UueBq0xnBPCt"
      }
    },
    {
      "cell_type": "markdown",
      "source": [
        "17. What are the common logging levels in Python?\n",
        "-\n",
        "The common logging levels in Python are:\n",
        "\n",
        "1. **DEBUG** – Detailed information for debugging.\n",
        "2. **INFO** – General messages that confirm things are working.\n",
        "3. **WARNING** – Indicates a potential problem.\n",
        "4. **ERROR** – A serious issue that has caused a failure.\n",
        "5. **CRITICAL** – A very severe error causing the program to stop.\n"
      ],
      "metadata": {
        "id": "Meuz7wKsBfWW"
      }
    },
    {
      "cell_type": "markdown",
      "source": [
        "18. What is the difference between os.fork() and multiprocessing in Python?\n",
        "-\n",
        "**`os.fork()`** directly creates a new child process by duplicating the current process and works only on **Unix/Linux systems**.\n",
        "\n",
        "**`multiprocessing`** is a **Python module** that provides a higher-level, cross-platform way to create and manage multiple processes, making it more flexible and portable.\n"
      ],
      "metadata": {
        "id": "AMM2Jr0_Bsbl"
      }
    },
    {
      "cell_type": "markdown",
      "source": [
        "19. What is the importance of closing a file in Python?\n",
        "-\n",
        "Closing a file in Python is important because it **frees system resources**, **saves data properly**, and ensures that all changes are **written to the file**.\n",
        "If a file isn’t closed, it may cause **data loss or file corruption**.\n"
      ],
      "metadata": {
        "id": "kruDxuDGCMWO"
      }
    },
    {
      "cell_type": "markdown",
      "source": [
        "20. What is the difference between file.read() and file.readline() in Python?\n",
        "-\n",
        "Closing a file in Python is important because it **frees system resources**, **saves data properly**, and ensures that all changes are **written to the file**.\n",
        "If a file isn’t closed, it may cause **data loss or file corruption**.\n"
      ],
      "metadata": {
        "id": "58pLhcg-CpQq"
      }
    },
    {
      "cell_type": "markdown",
      "source": [
        "21. What is the logging module in Python used for?\n",
        "\n",
        "- The **logging module** in Python is used to **record messages** about a program’s execution, such as errors, warnings, or informational events.\n",
        "It helps developers **track issues**, **debug code**, and **monitor application behavior** efficiently.\n"
      ],
      "metadata": {
        "id": "7HVlOJ1UE4ZY"
      }
    },
    {
      "cell_type": "markdown",
      "source": [
        "22. What is the os module in Python used for in file handling?\n",
        "\n",
        "- The **os module** in Python is used to **interact with the operating system** for file and directory operations.\n",
        "It allows tasks like **creating, deleting, renaming, and navigating files or folders** within the file system.\n"
      ],
      "metadata": {
        "id": "x_7ExltUFITy"
      }
    },
    {
      "cell_type": "markdown",
      "source": [
        "23. What are the challenges associated with memory management in Python?\n",
        "\n",
        "- Challenges in Python’s memory management include:\n",
        "\n",
        "1. **Memory leaks** due to unused object references.\n",
        "2. **High memory usage** with large data structures.\n",
        "3. **Circular references** that delay garbage collection.\n",
        "4. **Uncontrolled object creation** leading to performance issues.\n"
      ],
      "metadata": {
        "id": "DUWjWy_OFVNx"
      }
    },
    {
      "cell_type": "markdown",
      "source": [
        "24.  How do you raise an exception manually in Python?\n",
        "\n",
        "- You can raise an exception manually in Python using the **`raise`** keyword followed by the exception type.\n",
        "It is used to trigger an error intentionally when a specific condition occurs.\n"
      ],
      "metadata": {
        "id": "BgRbF2RlFhKT"
      }
    },
    {
      "cell_type": "markdown",
      "source": [
        "25. Why is it important to use multithreading in certain applications?\n",
        "\n",
        "- Multithreading is important because it allows a program to **perform multiple tasks at the same time**, improving **speed and efficiency**.\n",
        "It is especially useful for **I/O-bound tasks** like file handling, network requests, or user interactions.\n"
      ],
      "metadata": {
        "id": "WNNHQ9j1Fskg"
      }
    },
    {
      "cell_type": "markdown",
      "source": [
        "**Practical questions**"
      ],
      "metadata": {
        "id": "GZorLXqiF5CN"
      }
    },
    {
      "cell_type": "markdown",
      "source": [
        "1. How can you open a file for writing in Python and write a string to it?"
      ],
      "metadata": {
        "id": "9D9sTTTTF_zh"
      }
    },
    {
      "cell_type": "code",
      "source": [
        "1. # Open a file in write mode and write text to it\n",
        "file = open(\"example.txt\", \"w\")\n",
        "file.write(\"Hello, this is Itishri's file!\")\n",
        "file.close()\n"
      ],
      "metadata": {
        "id": "0o4y57pZGY5j"
      },
      "execution_count": 2,
      "outputs": []
    },
    {
      "cell_type": "markdown",
      "source": [
        "2. Write a Python program to read the contents of a file and print each line?"
      ],
      "metadata": {
        "id": "pHk7UHz1GdZ8"
      }
    },
    {
      "cell_type": "code",
      "source": [
        "2.\n",
        "# Open the file in read mode\n",
        "file = open(\"example.txt\", \"r\")\n",
        "\n",
        "# Read and print each line\n",
        "for line in file:\n",
        "    print(line.strip())\n",
        "\n",
        "# Close the file\n",
        "file.close()\n"
      ],
      "metadata": {
        "colab": {
          "base_uri": "https://localhost:8080/"
        },
        "id": "v334jk9uGmqI",
        "outputId": "9b0e2e16-604b-44c9-80ef-10c5c960fd7e"
      },
      "execution_count": 3,
      "outputs": [
        {
          "output_type": "stream",
          "name": "stdout",
          "text": [
            "Hello, this is Itishri's file!\n"
          ]
        }
      ]
    },
    {
      "cell_type": "markdown",
      "source": [
        "3. How would you handle a case where the file doesn't exist while trying to open it for reading?"
      ],
      "metadata": {
        "id": "DQORTnM4GwU1"
      }
    },
    {
      "cell_type": "code",
      "source": [
        "3.\n",
        "# Handle file not found error\n",
        "try:\n",
        "    file = open(\"missingfile.txt\", \"r\")\n",
        "    print(file.read())\n",
        "    file.close()\n",
        "except FileNotFoundError:\n",
        "    print(\"Error: The file does not exist.\")\n"
      ],
      "metadata": {
        "colab": {
          "base_uri": "https://localhost:8080/"
        },
        "id": "PhRqZhJWG5ST",
        "outputId": "e5f113af-0354-4258-ae77-3e0798cf7354"
      },
      "execution_count": 4,
      "outputs": [
        {
          "output_type": "stream",
          "name": "stdout",
          "text": [
            "Error: The file does not exist.\n"
          ]
        }
      ]
    },
    {
      "cell_type": "markdown",
      "source": [],
      "metadata": {
        "id": "LrpGXCzOBYbs"
      }
    },
    {
      "cell_type": "markdown",
      "source": [
        "4. Write a Python script that reads from one file and writes its content to another file?"
      ],
      "metadata": {
        "id": "hMEQlUbAHSMM"
      }
    },
    {
      "cell_type": "code",
      "source": [
        "4.\n",
        "# Copy content from one file to another safely\n",
        "try:\n",
        "    with open(\"source.txt\", \"r\") as src:\n",
        "        with open(\"copy.txt\", \"w\") as dest:\n",
        "            for line in src:\n",
        "                dest.write(line)\n",
        "    print(\"File copied successfully!\")\n",
        "except FileNotFoundError:\n",
        "    print(\"Error: 'source.txt' not found.\")\n"
      ],
      "metadata": {
        "colab": {
          "base_uri": "https://localhost:8080/"
        },
        "id": "QVBBnTcxHk1n",
        "outputId": "00e4b6fb-d635-469b-e415-30ae8c1775e4"
      },
      "execution_count": 6,
      "outputs": [
        {
          "output_type": "stream",
          "name": "stdout",
          "text": [
            "Error: 'source.txt' not found.\n"
          ]
        }
      ]
    },
    {
      "cell_type": "markdown",
      "source": [
        "5. How would you catch and handle division by zero error in Python?"
      ],
      "metadata": {
        "id": "Yu9dkrYCJFvm"
      }
    },
    {
      "cell_type": "code",
      "source": [
        "5.\n",
        "# Handle division by zero error\n",
        "try:\n",
        "    num1 = 10\n",
        "    num2 = 0\n",
        "    result = num1 / num2\n",
        "    print(result)\n",
        "except ZeroDivisionError:\n",
        "    print(\"Error: Division by zero is not allowed.\")\n"
      ],
      "metadata": {
        "colab": {
          "base_uri": "https://localhost:8080/"
        },
        "id": "8rmWK8INJMVi",
        "outputId": "05cbdfec-b5ce-4361-94e2-0aec2645d5cc"
      },
      "execution_count": 7,
      "outputs": [
        {
          "output_type": "stream",
          "name": "stdout",
          "text": [
            "Error: Division by zero is not allowed.\n"
          ]
        }
      ]
    },
    {
      "cell_type": "markdown",
      "source": [
        "6. Write a Python program that logs an error message to a log file when a division by zero exception occurs?"
      ],
      "metadata": {
        "id": "2pXEQklzJWsC"
      }
    },
    {
      "cell_type": "code",
      "source": [
        "6.\n",
        "import logging\n",
        "\n",
        "# Set up logging configuration\n",
        "logging.basicConfig(filename=\"error.log\", level=logging.ERROR,\n",
        "                    format=\"%(asctime)s - %(levelname)s - %(message)s\")\n",
        "\n",
        "try:\n",
        "    a = 10\n",
        "    b = 0\n",
        "    result = a / b\n",
        "except ZeroDivisionError:\n",
        "    logging.error(\"Division by zero error occurred.\")\n",
        "    print(\"Error logged in 'error.log' file.\")\n"
      ],
      "metadata": {
        "colab": {
          "base_uri": "https://localhost:8080/"
        },
        "id": "J-55c16yJeMu",
        "outputId": "9b7362ac-9242-4b60-c80f-554542ec0f8e"
      },
      "execution_count": 8,
      "outputs": [
        {
          "output_type": "stream",
          "name": "stderr",
          "text": [
            "ERROR:root:Division by zero error occurred.\n"
          ]
        },
        {
          "output_type": "stream",
          "name": "stdout",
          "text": [
            "Error logged in 'error.log' file.\n"
          ]
        }
      ]
    },
    {
      "cell_type": "markdown",
      "source": [
        "7. How do you log information at different levels (INFO, ERROR, WARNING) in Python using the logging module?"
      ],
      "metadata": {
        "id": "Kh5Uej4IJnHi"
      }
    },
    {
      "cell_type": "code",
      "source": [
        "7.\n",
        "import logging\n",
        "\n",
        "# Configure logging\n",
        "logging.basicConfig(level=logging.DEBUG,\n",
        "                    format=\"%(asctime)s - %(levelname)s - %(message)s\")\n",
        "\n",
        "# Log messages at different levels\n",
        "logging.info(\"This is an info message.\")\n",
        "logging.warning(\"This is a warning message.\")\n",
        "logging.error(\"This is an error message.\")\n"
      ],
      "metadata": {
        "colab": {
          "base_uri": "https://localhost:8080/"
        },
        "id": "eLIniBvnJri4",
        "outputId": "03853efe-4000-417f-fbe2-8890e5b3ea44"
      },
      "execution_count": 9,
      "outputs": [
        {
          "output_type": "stream",
          "name": "stderr",
          "text": [
            "WARNING:root:This is a warning message.\n",
            "ERROR:root:This is an error message.\n"
          ]
        }
      ]
    },
    {
      "cell_type": "markdown",
      "source": [
        "8. Write a program to handle a file opening error using exception handling?"
      ],
      "metadata": {
        "id": "Z3wGQLaMJzj2"
      }
    },
    {
      "cell_type": "code",
      "source": [
        "8.\n",
        "# Handle file opening error\n",
        "try:\n",
        "    file = open(\"nonexistent.txt\", \"r\")\n",
        "    content = file.read()\n",
        "    file.close()\n",
        "except FileNotFoundError:\n",
        "    print(\"Error: The file could not be found.\")\n"
      ],
      "metadata": {
        "colab": {
          "base_uri": "https://localhost:8080/"
        },
        "id": "K41toMuqJ3w3",
        "outputId": "bc340c5e-e3b3-4773-fce0-318d1c762664"
      },
      "execution_count": 10,
      "outputs": [
        {
          "output_type": "stream",
          "name": "stdout",
          "text": [
            "Error: The file could not be found.\n"
          ]
        }
      ]
    },
    {
      "cell_type": "markdown",
      "source": [
        "9. How can you read a file line by line and store its content in a list in Python?"
      ],
      "metadata": {
        "id": "eqgjeK7pJ-Zf"
      }
    },
    {
      "cell_type": "code",
      "source": [
        "9.\n",
        "# Read file line by line and store in a list\n",
        "with open(\"example.txt\", \"r\") as file:\n",
        "    lines = file.readlines()\n",
        "\n",
        "print(lines)\n"
      ],
      "metadata": {
        "colab": {
          "base_uri": "https://localhost:8080/"
        },
        "id": "gcGim_k8KEVh",
        "outputId": "cd667a03-d5b8-4d5d-9bed-f76a7619525b"
      },
      "execution_count": 11,
      "outputs": [
        {
          "output_type": "stream",
          "name": "stdout",
          "text": [
            "[\"Hello, this is Itishri's file!\"]\n"
          ]
        }
      ]
    },
    {
      "cell_type": "markdown",
      "source": [
        "10. How can you append data to an existing file in Python?"
      ],
      "metadata": {
        "id": "aG7ZodXXKL6H"
      }
    },
    {
      "cell_type": "code",
      "source": [
        "10.\n",
        "# Append data to an existing file\n",
        "with open(\"example.txt\", \"a\") as file:\n",
        "    file.write(\"\\nThis line is newly added.\")\n"
      ],
      "metadata": {
        "id": "9Y-oYtrQKR-6"
      },
      "execution_count": 12,
      "outputs": []
    },
    {
      "cell_type": "markdown",
      "source": [
        "11. Write a Python program that uses a try-except block to handle an error when attempting to access a\n",
        "dictionary key that doesn't exist"
      ],
      "metadata": {
        "id": "rnJfS-R8Kfah"
      }
    },
    {
      "cell_type": "code",
      "source": [
        "11.\n",
        "# Handle missing dictionary key error\n",
        "data = {\"name\": \"Itishri\", \"age\": 24}\n",
        "\n",
        "try:\n",
        "    print(data[\"city\"])\n",
        "except KeyError:\n",
        "    print(\"Error: The key does not exist in the dictionary.\")\n"
      ],
      "metadata": {
        "colab": {
          "base_uri": "https://localhost:8080/"
        },
        "id": "EQuoB0qkKpos",
        "outputId": "66db1116-b4ad-451e-baaf-8ad131d81a95"
      },
      "execution_count": 13,
      "outputs": [
        {
          "output_type": "stream",
          "name": "stdout",
          "text": [
            "Error: The key does not exist in the dictionary.\n"
          ]
        }
      ]
    },
    {
      "cell_type": "markdown",
      "source": [
        "12.  Write a program that demonstrates using multiple except blocks to handle different types of exceptions"
      ],
      "metadata": {
        "id": "wxRHwtcTKzwQ"
      }
    },
    {
      "cell_type": "code",
      "source": [
        "12.\n",
        "# Demonstrating multiple exception handling without user input\n",
        "\n",
        "try:\n",
        "    items = [10, 20, 30]\n",
        "    index = 5        # Invalid index to trigger IndexError\n",
        "    divisor = 0      # 0 to trigger ZeroDivisionError\n",
        "\n",
        "    value = items[index]\n",
        "    result = value / divisor\n",
        "    print(\"Result:\", result)\n",
        "\n",
        "except IndexError:\n",
        "    print(\"Error: Index out of range. Please use a valid index.\")\n",
        "\n",
        "except ZeroDivisionError:\n",
        "    print(\"Error: Cannot divide by zero. Try another number.\")\n",
        "\n",
        "except ValueError:\n",
        "    print(\"Error: Invalid input detected.\")\n",
        "\n",
        "except Exception as e:\n",
        "    print(\"Unexpected error:\", e)\n"
      ],
      "metadata": {
        "colab": {
          "base_uri": "https://localhost:8080/"
        },
        "id": "x_Ircfg7M8Ne",
        "outputId": "8982329d-62cc-4688-8841-119edaa0a499"
      },
      "execution_count": 19,
      "outputs": [
        {
          "output_type": "stream",
          "name": "stdout",
          "text": [
            "Error: Index out of range. Please use a valid index.\n"
          ]
        }
      ]
    },
    {
      "cell_type": "markdown",
      "source": [
        "13.  How would you check if a file exists before attempting to read it in Python?"
      ],
      "metadata": {
        "id": "a5-HtdasNAsI"
      }
    },
    {
      "cell_type": "code",
      "source": [
        "13.\n",
        "import os\n",
        "\n",
        "# Check if file exists before reading\n",
        "if os.path.exists(\"example.txt\"):\n",
        "    with open(\"example.txt\", \"r\") as file:\n",
        "        print(file.read())\n",
        "else:\n",
        "    print(\"File not found.\")\n"
      ],
      "metadata": {
        "colab": {
          "base_uri": "https://localhost:8080/"
        },
        "id": "jL1GyMxdNJkS",
        "outputId": "8462155f-437c-45a7-eea1-c5226e313415"
      },
      "execution_count": 20,
      "outputs": [
        {
          "output_type": "stream",
          "name": "stdout",
          "text": [
            "Hello, this is Itishri's file!\n",
            "This line is newly added.\n"
          ]
        }
      ]
    },
    {
      "cell_type": "markdown",
      "source": [
        "14. Write a program that uses the logging module to log both informational and error messages?"
      ],
      "metadata": {
        "id": "FF3lOFPyNTmy"
      }
    },
    {
      "cell_type": "code",
      "source": [
        "14.\n",
        "import logging\n",
        "\n",
        "# Configure logging settings\n",
        "logging.basicConfig(filename=\"app.log\", level=logging.INFO,\n",
        "                    format=\"%(asctime)s - %(levelname)s - %(message)s\")\n",
        "\n",
        "# Log informational message\n",
        "logging.info(\"Program started successfully.\")\n",
        "\n",
        "# Example of an error situation\n",
        "try:\n",
        "    x = 10 / 0\n",
        "except ZeroDivisionError:\n",
        "    logging.error(\"Division by zero error occurred.\")\n",
        "\n",
        "logging.info(\"Program finished execution.\")\n"
      ],
      "metadata": {
        "colab": {
          "base_uri": "https://localhost:8080/"
        },
        "id": "DM8s75JYNdUn",
        "outputId": "78202ea0-e7f5-4d6f-d92f-edcc3c847266"
      },
      "execution_count": 21,
      "outputs": [
        {
          "output_type": "stream",
          "name": "stderr",
          "text": [
            "ERROR:root:Division by zero error occurred.\n"
          ]
        }
      ]
    },
    {
      "cell_type": "markdown",
      "source": [
        "15.  Write a Python program that prints the content of a file and handles the case when the file is empty?"
      ],
      "metadata": {
        "id": "svgUngdeNkRb"
      }
    },
    {
      "cell_type": "code",
      "source": [
        "15.\n",
        "# Program to print file content and handle empty file\n",
        "try:\n",
        "    with open(\"example.txt\", \"r\") as file:\n",
        "        content = file.read()\n",
        "        if content:\n",
        "            print(\"File content:\\n\", content)\n",
        "        else:\n",
        "            print(\"The file is empty.\")\n",
        "except FileNotFoundError:\n",
        "    print(\"Error: File not found.\")\n"
      ],
      "metadata": {
        "colab": {
          "base_uri": "https://localhost:8080/"
        },
        "id": "ZsYXvzueNr2i",
        "outputId": "db2eec0b-7f4d-45ce-f187-10d17081d5be"
      },
      "execution_count": 22,
      "outputs": [
        {
          "output_type": "stream",
          "name": "stdout",
          "text": [
            "File content:\n",
            " Hello, this is Itishri's file!\n",
            "This line is newly added.\n"
          ]
        }
      ]
    },
    {
      "cell_type": "markdown",
      "source": [
        "16. Demonstrate how to use memory profiling to check the memory usage of a small program?\n",
        "- You can use the memory_profiler or tracemalloc module to check memory usage in Python.\n",
        "\n",
        "Example -\n"
      ],
      "metadata": {
        "id": "QjrZh8aZNxSE"
      }
    },
    {
      "cell_type": "code",
      "source": [
        "16.\n",
        "import tracemalloc\n",
        "\n",
        "tracemalloc.start()\n",
        "a = [i for i in range(1000000)]  # sample code\n",
        "print(\"Current memory usage:\", tracemalloc.get_traced_memory()[0])\n",
        "tracemalloc.stop()\n"
      ],
      "metadata": {
        "colab": {
          "base_uri": "https://localhost:8080/"
        },
        "id": "7K8Jg7A-PJ27",
        "outputId": "8e236c08-ba89-4d4d-df1a-8e07b9fe3bad"
      },
      "execution_count": 24,
      "outputs": [
        {
          "output_type": "stream",
          "name": "stdout",
          "text": [
            "Current memory usage: 40441640\n"
          ]
        }
      ]
    },
    {
      "cell_type": "markdown",
      "source": [
        "17.  Write a Python program to create and write a list of numbers to a file, one number per line?\n"
      ],
      "metadata": {
        "id": "qJPVA91JPU6L"
      }
    },
    {
      "cell_type": "code",
      "source": [
        "17.\n",
        "# Create and write a list of numbers to a file\n",
        "numbers = [10, 20, 30, 40, 50]\n",
        "\n",
        "with open(\"numbers.txt\", \"w\") as file:\n",
        "    for num in numbers:\n",
        "        file.write(str(num) + \"\\n\")\n",
        "\n",
        "print(\"Numbers written to file successfully.\")\n"
      ],
      "metadata": {
        "colab": {
          "base_uri": "https://localhost:8080/"
        },
        "id": "Ftn-qgLoPfL4",
        "outputId": "2c228da0-928d-4539-b49b-058c31ae593d"
      },
      "execution_count": 25,
      "outputs": [
        {
          "output_type": "stream",
          "name": "stdout",
          "text": [
            "Numbers written to file successfully.\n"
          ]
        }
      ]
    },
    {
      "cell_type": "markdown",
      "source": [],
      "metadata": {
        "id": "dEbRKcAgO441"
      }
    },
    {
      "cell_type": "markdown",
      "source": [
        "18. How would you implement a basic logging setup that logs to a file with rotation after 1MB?"
      ],
      "metadata": {
        "id": "TxDoBj2gPnUB"
      }
    },
    {
      "cell_type": "code",
      "source": [
        "18.\n",
        "import logging\n",
        "from logging.handlers import RotatingFileHandler\n",
        "\n",
        "logger = logging.getLogger(\"my_app\")\n",
        "logger.setLevel(logging.INFO)\n",
        "\n",
        "handler = RotatingFileHandler(\n",
        "    \"app.log\", maxBytes=1 * 1024 * 1024, backupCount=5\n",
        ")  # rotate after 1MB, keep 5 backups\n",
        "formatter = logging.Formatter(\"%(asctime)s - %(levelname)s - %(message)s\")\n",
        "handler.setFormatter(formatter)\n",
        "\n",
        "logger.addHandler(handler)\n",
        "\n",
        "# usage\n",
        "logger.info(\"Application started\")\n",
        "logger.error(\"An error occurred\")\n"
      ],
      "metadata": {
        "colab": {
          "base_uri": "https://localhost:8080/"
        },
        "id": "Fe5WNcOcPvgM",
        "outputId": "836f73c6-9ae2-4641-e443-b9f735a4513e"
      },
      "execution_count": 26,
      "outputs": [
        {
          "output_type": "stream",
          "name": "stderr",
          "text": [
            "INFO:my_app:Application started\n",
            "ERROR:my_app:An error occurred\n"
          ]
        }
      ]
    },
    {
      "cell_type": "markdown",
      "source": [
        "19. Write a program that handles both IndexError and KeyError using a try-except block?"
      ],
      "metadata": {
        "id": "O75ecgpjP_lT"
      }
    },
    {
      "cell_type": "code",
      "source": [
        "19.\n",
        "# Handle both IndexError and KeyError\n",
        "try:\n",
        "    my_list = [10, 20, 30]\n",
        "    my_dict = {\"name\": \"Itishri\", \"age\": 24}\n",
        "\n",
        "    print(my_list[5])        # This will raise IndexError\n",
        "    print(my_dict[\"city\"])   # This will raise KeyError\n",
        "\n",
        "except IndexError:\n",
        "    print(\"Error: List index out of range.\")\n",
        "\n",
        "except KeyError:\n",
        "    print(\"Error: Key not found in dictionary.\")\n"
      ],
      "metadata": {
        "colab": {
          "base_uri": "https://localhost:8080/"
        },
        "id": "GbNzw1wtQGYN",
        "outputId": "5f90f148-93a3-4b6a-9cae-a55caa8d528f"
      },
      "execution_count": 27,
      "outputs": [
        {
          "output_type": "stream",
          "name": "stdout",
          "text": [
            "Error: List index out of range.\n"
          ]
        }
      ]
    },
    {
      "cell_type": "markdown",
      "source": [
        "20.  How would you open a file and read its contents using a context manager in Python?"
      ],
      "metadata": {
        "id": "4Ttld25oQTK5"
      }
    },
    {
      "cell_type": "code",
      "source": [
        "20.\n",
        "# Open and read a file using a context manager\n",
        "with open(\"example.txt\", \"r\") as file:\n",
        "    content = file.read()\n",
        "    print(content)\n"
      ],
      "metadata": {
        "colab": {
          "base_uri": "https://localhost:8080/"
        },
        "id": "v5-ZsSYPQaiA",
        "outputId": "02eac4ba-5a4f-4170-f3f2-8bed2f3b3d23"
      },
      "execution_count": 28,
      "outputs": [
        {
          "output_type": "stream",
          "name": "stdout",
          "text": [
            "Hello, this is Itishri's file!\n",
            "This line is newly added.\n"
          ]
        }
      ]
    },
    {
      "cell_type": "markdown",
      "source": [
        "21. Write a Python program that reads a file and prints the number of occurrences of a specific word?"
      ],
      "metadata": {
        "id": "LQ-6LtwDQgc3"
      }
    },
    {
      "cell_type": "code",
      "source": [
        "21.\n",
        "# Count occurrences of a specific word in a file\n",
        "word_to_count = \"Python\"\n",
        "count = 0\n",
        "\n",
        "with open(\"example.txt\", \"r\") as file:\n",
        "    for line in file:\n",
        "        count += line.lower().split().count(word_to_count.lower())\n",
        "\n",
        "print(f\"The word '{word_to_count}' occurs {count} times in the file.\")\n"
      ],
      "metadata": {
        "colab": {
          "base_uri": "https://localhost:8080/"
        },
        "id": "QaKQgjbaQmZ1",
        "outputId": "29d05c95-d9c0-45c4-e136-dcd071e5f3b8"
      },
      "execution_count": 29,
      "outputs": [
        {
          "output_type": "stream",
          "name": "stdout",
          "text": [
            "The word 'Python' occurs 0 times in the file.\n"
          ]
        }
      ]
    },
    {
      "cell_type": "markdown",
      "source": [
        "22. How can you check if a file is empty before attempting to read its contents?"
      ],
      "metadata": {
        "id": "6tB7N_abQwqT"
      }
    },
    {
      "cell_type": "code",
      "source": [
        "22.\n",
        "import os\n",
        "\n",
        "# Check if file is empty before reading\n",
        "if os.path.getsize(\"example.txt\") == 0:\n",
        "    print(\"The file is empty.\")\n",
        "else:\n",
        "    with open(\"example.txt\", \"r\") as file:\n",
        "        print(file.read())\n"
      ],
      "metadata": {
        "colab": {
          "base_uri": "https://localhost:8080/"
        },
        "id": "GhHzAD49Q3lb",
        "outputId": "7c6819f6-f6ea-4f2a-9c35-df4c63640182"
      },
      "execution_count": 30,
      "outputs": [
        {
          "output_type": "stream",
          "name": "stdout",
          "text": [
            "Hello, this is Itishri's file!\n",
            "This line is newly added.\n"
          ]
        }
      ]
    },
    {
      "cell_type": "markdown",
      "source": [
        "23. Write a Python program that writes to a log file when an error occurs during file handling."
      ],
      "metadata": {
        "id": "JKyaP-EEQ9Cu"
      }
    },
    {
      "cell_type": "code",
      "source": [
        "23.\n",
        "import logging\n",
        "\n",
        "# Configure logging\n",
        "logging.basicConfig(filename=\"file_error.log\", level=logging.ERROR,\n",
        "                    format=\"%(asctime)s - %(levelname)s - %(message)s\")\n",
        "\n",
        "try:\n",
        "    with open(\"unknown.txt\", \"r\") as file:\n",
        "        data = file.read()\n",
        "except FileNotFoundError:\n",
        "    logging.error(\"File not found error occurred while trying to open 'unknown.txt'.\")\n",
        "    print(\"Error logged in 'file_error.log'.\")\n"
      ],
      "metadata": {
        "colab": {
          "base_uri": "https://localhost:8080/"
        },
        "id": "KOYNDK70RDC1",
        "outputId": "3baa3485-6e76-4393-8145-bb84aa5464c0"
      },
      "execution_count": 31,
      "outputs": [
        {
          "output_type": "stream",
          "name": "stderr",
          "text": [
            "ERROR:root:File not found error occurred while trying to open 'unknown.txt'.\n"
          ]
        },
        {
          "output_type": "stream",
          "name": "stdout",
          "text": [
            "Error logged in 'file_error.log'.\n"
          ]
        }
      ]
    }
  ]
}